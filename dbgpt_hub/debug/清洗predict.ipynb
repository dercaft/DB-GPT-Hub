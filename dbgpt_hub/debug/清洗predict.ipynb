{
 "cells": [
  {
   "cell_type": "code",
   "execution_count": 7,
   "id": "17e0e3e1",
   "metadata": {},
   "outputs": [],
   "source": [
    "#添加qid\n",
    "with open('pred_dev.sql', 'r',encoding='utf-8') as f:\n",
    "    lines = f.readlines()\n",
    "\n",
    "with open('pred_dev.sql', 'w',encoding='utf-8') as f:\n",
    "    for i, line in enumerate(lines, start=1):\n",
    "        f.write(f\"qid{i}\\t{line}\")\n"
   ]
  },
  {
   "cell_type": "code",
   "execution_count": 9,
   "id": "13d6424c",
   "metadata": {},
   "outputs": [],
   "source": [
    "#删掉末尾的分号\n",
    "with open('cleaned_pred_dev.sql', 'r',encoding='utf-8') as f:\n",
    "    lines = f.readlines()\n",
    "result = ''\n",
    "with open('cleaned_pred_dev.sql', 'w',encoding='utf-8') as f:\n",
    "    for line in lines:\n",
    "        line = line.replace(';',' ')\n",
    "        f.write(line)\n",
    "\n"
   ]
  },
  {
   "cell_type": "code",
   "execution_count": 1,
   "id": "8918e46d",
   "metadata": {},
   "outputs": [],
   "source": [
    "\n"
   ]
  },
  {
   "cell_type": "code",
   "execution_count": 10,
   "id": "025430c3",
   "metadata": {},
   "outputs": [],
   "source": [
    "#清洗codellama的口语化输出\n",
    "import re\n",
    "\n",
    "def extract_sql(content):\n",
    "    # 提取SQL语句\n",
    "    sqls = re.findall(r'```(.*?)```', content, re.DOTALL)\n",
    "    if not sqls:\n",
    "        return None\n",
    "    # 保留最长的SQL语句\n",
    "    sql = max(sqls, key=len)\n",
    "    # 删除\"SELECT\"前面的所有词\n",
    "    sql = re.sub(r'^.*?(SELECT)', r'\\1', sql, flags=re.IGNORECASE)\n",
    "    return sql.strip()\n",
    "\n",
    "def process_file(filename):\n",
    "    with open(filename, 'r',encoding='utf-8') as f:\n",
    "        lines = f.readlines()\n",
    "\n",
    "    new_lines = []\n",
    "    for line in lines:\n",
    "        qid, content = line.strip().split('\\t', 1)\n",
    "        if content.startswith('SELECT'):\n",
    "            new_lines.append(line)\n",
    "        else:\n",
    "            sql = extract_sql(content)\n",
    "            if sql is not None:\n",
    "                new_lines.append(f'{qid}\\t{sql}\\n')\n",
    "            else:\n",
    "                new_lines.append(line)\n",
    "\n",
    "    with open(filename, 'w',encoding='utf-8') as f:\n",
    "        f.writelines(new_lines)\n",
    "\n",
    "process_file('pred_dev.sql')\n"
   ]
  },
  {
   "cell_type": "code",
   "execution_count": 8,
   "id": "b20e5e07",
   "metadata": {},
   "outputs": [],
   "source": [
    "#清洗思源的html输出\n",
    "import re\n",
    "from bs4 import BeautifulSoup\n",
    "\n",
    "def extract_sql(content):\n",
    "    # 如果content以SELECT开头，直接返回\n",
    "    if content.strip().startswith('SELECT'):\n",
    "        return content.strip()\n",
    "    \n",
    "    # 使用BeautifulSoup解析HTML\n",
    "    soup = BeautifulSoup(content, 'html.parser')\n",
    "    text = soup.get_text()\n",
    "    \n",
    "    # 从字符串中截取SQL语句\n",
    "    match = re.search(r'(SELECT.*?;)', text, re.DOTALL)\n",
    "    if match:\n",
    "        return match.group(1).strip()\n",
    "    \n",
    "    # 如果截取不到SQL语句，返回整个字符串\n",
    "    return text.strip()\n",
    "\n",
    "with open('pred_dev.sql', 'r',encoding='utf-8') as f_in, open('cleaned_pred_dev.sql', 'w',encoding='utf-8') as f_out:\n",
    "    for line in f_in:\n",
    "        qid, content = line.rstrip('\\n').split('\\t', 1)\n",
    "        cleaned_content = extract_sql(content)\n",
    "        f_out.write(f'{qid}\\t{cleaned_content}\\n')\n"
   ]
  },
  {
   "cell_type": "code",
   "execution_count": null,
   "id": "9d23fb0b",
   "metadata": {},
   "outputs": [],
   "source": []
  }
 ],
 "metadata": {
  "kernelspec": {
   "display_name": "Python 3 (ipykernel)",
   "language": "python",
   "name": "python3"
  },
  "language_info": {
   "codemirror_mode": {
    "name": "ipython",
    "version": 3
   },
   "file_extension": ".py",
   "mimetype": "text/x-python",
   "name": "python",
   "nbconvert_exporter": "python",
   "pygments_lexer": "ipython3",
   "version": "3.11.5"
  }
 },
 "nbformat": 4,
 "nbformat_minor": 5
}
